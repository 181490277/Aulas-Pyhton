{
 "cells": [
  {
   "cell_type": "markdown",
   "id": "6e9f888b",
   "metadata": {},
   "source": [
    "# EXERCICIO 8"
   ]
  },
  {
   "cell_type": "code",
   "execution_count": 12,
   "id": "9b292ca2",
   "metadata": {},
   "outputs": [
    {
     "name": "stdout",
     "output_type": "stream",
     "text": [
      "Digite um valor em metros: 100\n",
      "O valor 100.0 metros, vale 1.0 em cm e 0.1 e mm.\n"
     ]
    }
   ],
   "source": [
    "'''\n",
    "Escreva um programa que leia um valor em metros e o exiba\n",
    "convertindo em centimetros e milimetros.\n",
    "'''\n",
    "\n",
    "#digitando um valor\n",
    "n = input(\"Digite um valor em metros: \")\n",
    "\n",
    "#convertendo em um valor flutuante\n",
    "n = float(n)\n",
    "\n",
    "#valor convertido em cm\n",
    "a = n/100\n",
    "\n",
    "#valor convertido em mm\n",
    "b = n/1000\n",
    "\n",
    "print(f\"O valor {n} metros, vale {a} em cm e {b} e mm.\")\n",
    "\n"
   ]
  },
  {
   "cell_type": "code",
   "execution_count": null,
   "id": "87525eca",
   "metadata": {},
   "outputs": [],
   "source": []
  }
 ],
 "metadata": {
  "kernelspec": {
   "display_name": "Python 3 (ipykernel)",
   "language": "python",
   "name": "python3"
  },
  "language_info": {
   "codemirror_mode": {
    "name": "ipython",
    "version": 3
   },
   "file_extension": ".py",
   "mimetype": "text/x-python",
   "name": "python",
   "nbconvert_exporter": "python",
   "pygments_lexer": "ipython3",
   "version": "3.11.3"
  }
 },
 "nbformat": 4,
 "nbformat_minor": 5
}
