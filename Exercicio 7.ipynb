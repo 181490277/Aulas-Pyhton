{
 "cells": [
  {
   "cell_type": "markdown",
   "id": "5e901da0",
   "metadata": {},
   "source": [
    "# Exercicio 7"
   ]
  },
  {
   "cell_type": "code",
   "execution_count": 8,
   "id": "32f5c419",
   "metadata": {},
   "outputs": [
    {
     "name": "stdout",
     "output_type": "stream",
     "text": [
      "Qual o valor da primeira nota? 5.5\n",
      "Qual o valor da segunda nota? 3.3\n",
      "A média entre 5.5 e 3.3 é igual a 4.4.\n"
     ]
    }
   ],
   "source": [
    "'''\n",
    "Desenvolva um programa que leia as duas notas de um aluno,\n",
    "calcule e mostre a sua média.\n",
    "'''\n",
    "#digitando o valor da primeira nota\n",
    "a = input(\"Qual o valor da primeira nota? \")\n",
    "\n",
    "#Convertendo para flutuante\n",
    "a = float(a)\n",
    "\n",
    "#digitando o valor da segunda nota\n",
    "b = input(\"Qual o valor da segunda nota? \")\n",
    "\n",
    "#Convertendo para flutuante\n",
    "b = float(b)\n",
    "\n",
    "#média entre as notas\n",
    "c= (a+b)/2\n",
    "\n",
    "print(f\"A média entre {a} e {b} é igual a {c:.1f}.\")\n"
   ]
  },
  {
   "cell_type": "code",
   "execution_count": null,
   "id": "e26fcad2",
   "metadata": {},
   "outputs": [],
   "source": []
  }
 ],
 "metadata": {
  "kernelspec": {
   "display_name": "Python 3 (ipykernel)",
   "language": "python",
   "name": "python3"
  },
  "language_info": {
   "codemirror_mode": {
    "name": "ipython",
    "version": 3
   },
   "file_extension": ".py",
   "mimetype": "text/x-python",
   "name": "python",
   "nbconvert_exporter": "python",
   "pygments_lexer": "ipython3",
   "version": "3.11.3"
  }
 },
 "nbformat": 4,
 "nbformat_minor": 5
}
