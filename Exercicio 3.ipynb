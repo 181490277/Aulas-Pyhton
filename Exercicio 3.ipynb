{
 "cells": [
  {
   "cell_type": "markdown",
   "id": "d57cd320",
   "metadata": {},
   "source": [
    "# EXERCICIO 3"
   ]
  },
  {
   "cell_type": "code",
   "execution_count": 11,
   "id": "9b481d59",
   "metadata": {},
   "outputs": [
    {
     "name": "stdout",
     "output_type": "stream",
     "text": [
      "Qual será o primeiro valor? 3\n",
      "Qual será o segundo valor? 3\n",
      "A soma entre 3 e 3 é igual a 6.\n"
     ]
    }
   ],
   "source": [
    "'''\n",
    "Crie um programa que leia dois numeros e mostra a soma entre eles.\n",
    "'''\n",
    "\n",
    "#Definindo-se o valores desejados\n",
    "x = input(\"Qual será o primeiro valor? \")\n",
    "y = input(\"Qual será o segundo valor? \")\n",
    "\n",
    "#Convertendo em int\n",
    "x = int(x)\n",
    "y = int(y)\n",
    "\n",
    "'''\n",
    "SE NÃO REALIZAR A CONVERSÃO, IRÁ APARECER OS DOIS VALORES E NÃO SUA SOMA!\n",
    "'''\n",
    "\n",
    "#Realizando a soma entre os valores\n",
    "result = x+y\n",
    "\n",
    "#O que aparecerá na tela\n",
    "print(f\"A soma entre {x} e {y} é igual a {result}.\")"
   ]
  },
  {
   "cell_type": "code",
   "execution_count": null,
   "id": "e9ae5c2f",
   "metadata": {},
   "outputs": [],
   "source": []
  }
 ],
 "metadata": {
  "kernelspec": {
   "display_name": "Python 3 (ipykernel)",
   "language": "python",
   "name": "python3"
  },
  "language_info": {
   "codemirror_mode": {
    "name": "ipython",
    "version": 3
   },
   "file_extension": ".py",
   "mimetype": "text/x-python",
   "name": "python",
   "nbconvert_exporter": "python",
   "pygments_lexer": "ipython3",
   "version": "3.11.3"
  }
 },
 "nbformat": 4,
 "nbformat_minor": 5
}
