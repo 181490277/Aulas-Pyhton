{
 "cells": [
  {
   "cell_type": "markdown",
   "id": "8b530773",
   "metadata": {},
   "source": [
    "# EXERCICIO 9"
   ]
  },
  {
   "cell_type": "code",
   "execution_count": 17,
   "id": "a9f1fd80",
   "metadata": {},
   "outputs": [
    {
     "name": "stdout",
     "output_type": "stream",
     "text": [
      "Digite um número qualquer para realizar sua tabuada: 13\n",
      "------------\n",
      "13x 1 =  13\n",
      "13x 2 =  26\n",
      "13x 3 =  39\n",
      "13x 4 =  52\n",
      "13x 5 =  65\n",
      "13x 6 =  78\n",
      "13x 7 =  91\n",
      "13x 8 = 104\n",
      "13x 9 = 117\n",
      "13x10 = 130\n",
      "------------\n"
     ]
    }
   ],
   "source": [
    "'''\n",
    "Faça um programa que leia um número inteiro qualquer e \n",
    "mostre na tela sua tabuada.\n",
    "'''\n",
    "\n",
    "#numero inteiro qualquer\n",
    "n = input(\"Digite um número qualquer para realizar sua tabuada: \")\n",
    "\n",
    "#convertendo para inteiro\n",
    "n = int(n)\n",
    "\n",
    "print(\"--\"*6)\n",
    "print(f\"{n}x{1:2} = {n*1:3}\")\n",
    "print(f\"{n}x{2:2} = {n*2:3}\")\n",
    "print(f\"{n}x{3:2} = {n*3:3}\")\n",
    "print(f\"{n}x{4:2} = {n*4:3}\")\n",
    "print(f\"{n}x{5:2} = {n*5:3}\")\n",
    "print(f\"{n}x{6:2} = {n*6:3}\")\n",
    "print(f\"{n}x{7:2} = {n*7:3}\")\n",
    "print(f\"{n}x{8:2} = {n*8:3}\")\n",
    "print(f\"{n}x{9:2} = {n*9:3}\")\n",
    "print(f\"{n}x{10} = {n*10:3}\")\n",
    "print(\"--\"*6)"
   ]
  },
  {
   "cell_type": "code",
   "execution_count": null,
   "id": "5649fd93",
   "metadata": {},
   "outputs": [],
   "source": []
  }
 ],
 "metadata": {
  "kernelspec": {
   "display_name": "Python 3 (ipykernel)",
   "language": "python",
   "name": "python3"
  },
  "language_info": {
   "codemirror_mode": {
    "name": "ipython",
    "version": 3
   },
   "file_extension": ".py",
   "mimetype": "text/x-python",
   "name": "python",
   "nbconvert_exporter": "python",
   "pygments_lexer": "ipython3",
   "version": "3.11.3"
  }
 },
 "nbformat": 4,
 "nbformat_minor": 5
}
