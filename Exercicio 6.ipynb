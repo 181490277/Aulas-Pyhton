{
 "cells": [
  {
   "cell_type": "markdown",
   "id": "d7e999cc",
   "metadata": {},
   "source": [
    "# Exercicio 6"
   ]
  },
  {
   "cell_type": "code",
   "execution_count": 13,
   "id": "a7de1601",
   "metadata": {},
   "outputs": [
    {
     "name": "stdout",
     "output_type": "stream",
     "text": [
      "Digite um número: 2\n",
      "O dobro de 2 é 4.\n",
      "O triplo de 2 é 6.\n",
      "A raiz quadrade de 2 é 1.41\n"
     ]
    }
   ],
   "source": [
    "'''\n",
    "Crie um algoritmo que leia um número e mostre o seu dobro,\n",
    "triplo e raiz quadrada.\n",
    "'''\n",
    "#Importando a biblioteca\n",
    "import math\n",
    "\n",
    "#Digitanto o valor que deseja\n",
    "a = input(\"Digite um número: \")\n",
    "\n",
    "#Convertendo para int\n",
    "a = int(a)\n",
    "\n",
    "#Para o dobro do valor digitado,\n",
    "result = a*2\n",
    "print(f\"O dobro de {a} é {result}.\")\n",
    "\n",
    "#Para o triplo do valor digitado,\n",
    "result = a*3\n",
    "print(f\"O triplo de {a} é {result}.\")\n",
    "\n",
    "#Para a raiz quadrada do valor digitado,\n",
    "result = math.sqrt(a)\n",
    "print(f\"A raiz quadrade de {a} é {result:.2f}\") #coloando {:.2f}, aparecerá somente duas casas flutuantes apos a virgula\n",
    "\n",
    "'''\n",
    "FORMA COM MENOS LINHAS\n",
    "\n",
    "#Digitanto o valor que deseja\n",
    "a = input(\"Digite um número: \")\n",
    "\n",
    "#Convertendo para int\n",
    "a = int(a)\n",
    "\n",
    "print(f\"O dobro de {a} é {a*2}, o triplo é {a*3} e a raiz quadrada é {a**(1/2).} .\")\n",
    "\n",
    "'''"
   ]
  },
  {
   "cell_type": "code",
   "execution_count": null,
   "id": "ad878728",
   "metadata": {},
   "outputs": [],
   "source": []
  }
 ],
 "metadata": {
  "kernelspec": {
   "display_name": "Python 3 (ipykernel)",
   "language": "python",
   "name": "python3"
  },
  "language_info": {
   "codemirror_mode": {
    "name": "ipython",
    "version": 3
   },
   "file_extension": ".py",
   "mimetype": "text/x-python",
   "name": "python",
   "nbconvert_exporter": "python",
   "pygments_lexer": "ipython3",
   "version": "3.11.3"
  }
 },
 "nbformat": 4,
 "nbformat_minor": 5
}
