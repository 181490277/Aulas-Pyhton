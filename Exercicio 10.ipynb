{
 "cells": [
  {
   "cell_type": "markdown",
   "id": "65ad3e91",
   "metadata": {},
   "source": [
    "# EXERCICIO 10"
   ]
  },
  {
   "cell_type": "code",
   "execution_count": 8,
   "id": "d22b0e62",
   "metadata": {},
   "outputs": [
    {
     "name": "stdout",
     "output_type": "stream",
     "text": [
      "Quantos você tem na carteira? R$32.75\n",
      "Com R$32.75, você poderá comprar U$$10.02.\n"
     ]
    }
   ],
   "source": [
    "'''\n",
    "Crie um programa que leia quanto dinheiro uma pessoa tem \n",
    "na carteira e mostre quantos dólares ela pode comprar.\n",
    "Obs.: Considere U$$1,00 = 3,27\n",
    "'''\n",
    "#informar o valor que tem na carteira\n",
    "n = input(\"Quantos você tem na carteira? R$\")\n",
    "\n",
    "#tranformar em valor flutuante\n",
    "n = float(n)\n",
    "\n",
    "#considerando U$$1,00 = 3,27\n",
    "b = (n/3.27)\n",
    "\n",
    "print(f\"Com R${n:.2f}, você poderá comprar U$${b:.2f}.\")\n"
   ]
  },
  {
   "cell_type": "code",
   "execution_count": null,
   "id": "6f366ee0",
   "metadata": {},
   "outputs": [],
   "source": []
  }
 ],
 "metadata": {
  "kernelspec": {
   "display_name": "Python 3 (ipykernel)",
   "language": "python",
   "name": "python3"
  },
  "language_info": {
   "codemirror_mode": {
    "name": "ipython",
    "version": 3
   },
   "file_extension": ".py",
   "mimetype": "text/x-python",
   "name": "python",
   "nbconvert_exporter": "python",
   "pygments_lexer": "ipython3",
   "version": "3.11.3"
  }
 },
 "nbformat": 4,
 "nbformat_minor": 5
}
