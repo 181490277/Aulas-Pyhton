{
 "cells": [
  {
   "cell_type": "markdown",
   "id": "70b6acb4",
   "metadata": {},
   "source": [
    "# EXRCICIO 11"
   ]
  },
  {
   "cell_type": "code",
   "execution_count": 12,
   "id": "addfe3f3",
   "metadata": {},
   "outputs": [
    {
     "name": "stdout",
     "output_type": "stream",
     "text": [
      "Qual a largura em metros da parede? 3\n",
      "Qual a altura em metros da parede? 3\n",
      "Para uma parede com uma área de 9.0 m², necessitará de 4.5 litros de tinta para pinta-lá.\n"
     ]
    }
   ],
   "source": [
    "'''\n",
    "Faça um programa que leia a largura e a altura de uma \n",
    "parede em metros, calcule a sua área e a quantidade de\n",
    "tinta necessaria para pinta-lá, sabendo que cada litro\n",
    "de tinta, pinta uma área de 2m².\n",
    "'''\n",
    "\n",
    "#Largura de uma parede\n",
    "l = input(\"Qual a largura em metros da parede? \")\n",
    "\n",
    "#transformando em flutuante\n",
    "l = float(l)\n",
    "\n",
    "#altura da parede\n",
    "h = input(\"Qual a altura em metros da parede? \")\n",
    "\n",
    "#transformando em flutuante\n",
    "h = float(h)\n",
    "\n",
    "#CALCULO DA AREA\n",
    "a = l*h\n",
    "\n",
    "#CALCULO DA QUANTIDADE DE TINTA NECESSARIA\n",
    "n = a/2\n",
    "\n",
    "print(f\"Para uma parede com uma área de {a} m², necessitará de {n} litros de tinta para pinta-lá.\")"
   ]
  },
  {
   "cell_type": "code",
   "execution_count": null,
   "id": "1af4c704",
   "metadata": {},
   "outputs": [],
   "source": []
  }
 ],
 "metadata": {
  "kernelspec": {
   "display_name": "Python 3 (ipykernel)",
   "language": "python",
   "name": "python3"
  },
  "language_info": {
   "codemirror_mode": {
    "name": "ipython",
    "version": 3
   },
   "file_extension": ".py",
   "mimetype": "text/x-python",
   "name": "python",
   "nbconvert_exporter": "python",
   "pygments_lexer": "ipython3",
   "version": "3.11.3"
  }
 },
 "nbformat": 4,
 "nbformat_minor": 5
}
