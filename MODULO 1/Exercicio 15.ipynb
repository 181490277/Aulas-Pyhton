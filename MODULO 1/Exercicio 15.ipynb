{
 "cells": [
  {
   "cell_type": "markdown",
   "id": "ded66118",
   "metadata": {},
   "source": [
    "# EXERCICIO 15"
   ]
  },
  {
   "cell_type": "code",
   "execution_count": 5,
   "id": "21f244ca",
   "metadata": {},
   "outputs": [
    {
     "name": "stdout",
     "output_type": "stream",
     "text": [
      "Quantos dias você quer alugar o carro? 2\n",
      "Quantos Km o carro rodou nesses dias? 1000\n",
      "Para um aluguel de 2 dias com 1000.0 Km rodado, o valor será:\f",
      "\n",
      "R$270.00.\n"
     ]
    }
   ],
   "source": [
    "'''\n",
    "Escreva um programa que pergunte a quantidade de Km \n",
    "percorridos por um carro alugado e a quantidade de dias \n",
    "pelos quais ele foi alugado. Calcule o preço a pagar, sabendo \n",
    "que o carro custa R$60 por dia e R$0,15 por Km rodado.\n",
    "'''\n",
    "#quantidade de dias\n",
    "d = input(\"Quantos dias você quer alugar o carro? \")\n",
    "#transformando em inteiro\n",
    "d = int(d)\n",
    "\n",
    "#Calculo do preço pelos dias\n",
    "p = d * 60.00\n",
    "\n",
    "#quantidade de Km rodado\n",
    "k = input(\"Quantos Km o carro rodou nesses dias? \")\n",
    "#transformando em pt flutuante\n",
    "k = float(k)\n",
    "\n",
    "#Calculo do preço pelos Km\n",
    "m = k * 0.15\n",
    "\n",
    "#Valor total a pagar,\n",
    "t = p + m\n",
    "\n",
    "print(f\"Para um aluguel de {d} dias com {k} Km rodado, o valor será:\\f\\nR${t:.2f}.\")\n",
    "\n"
   ]
  },
  {
   "cell_type": "code",
   "execution_count": null,
   "id": "b957ce07",
   "metadata": {},
   "outputs": [],
   "source": []
  }
 ],
 "metadata": {
  "kernelspec": {
   "display_name": "Python 3 (ipykernel)",
   "language": "python",
   "name": "python3"
  },
  "language_info": {
   "codemirror_mode": {
    "name": "ipython",
    "version": 3
   },
   "file_extension": ".py",
   "mimetype": "text/x-python",
   "name": "python",
   "nbconvert_exporter": "python",
   "pygments_lexer": "ipython3",
   "version": "3.11.3"
  }
 },
 "nbformat": 4,
 "nbformat_minor": 5
}
