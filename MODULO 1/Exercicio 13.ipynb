{
 "cells": [
  {
   "cell_type": "markdown",
   "id": "49afbafb",
   "metadata": {},
   "source": [
    "# EXERCICIO 13"
   ]
  },
  {
   "cell_type": "code",
   "execution_count": 4,
   "id": "fc9b48f3",
   "metadata": {},
   "outputs": [
    {
     "name": "stdout",
     "output_type": "stream",
     "text": [
      "Qual o valor do salário do funcionario? 1000\n",
      "O salario do funcionario é de R$1000.00, com um acrescimo de 15% será de R$1150.00.\n"
     ]
    }
   ],
   "source": [
    "'''\n",
    "Faça um algoritmoque leia o salário de um funcionario e \n",
    "mostre seu novo salário, com 15% de aumento.\n",
    "'''\n",
    "#qual o valor do salario\n",
    "s = input(\"Qual o valor do salário do funcionario? \")\n",
    "\n",
    "#transformando em ponto flutuante\n",
    "s = float(s)\n",
    "\n",
    "#Valor do salacrio com acrescimo de 15%\n",
    "n = s + (s*0.15)\n",
    "\n",
    "print(f\"O salario do funcionario é de R${s:.2f}, com um acrescimo de 15% será de R${n:.2f}.\")"
   ]
  },
  {
   "cell_type": "code",
   "execution_count": null,
   "id": "5f994128",
   "metadata": {},
   "outputs": [],
   "source": []
  }
 ],
 "metadata": {
  "kernelspec": {
   "display_name": "Python 3 (ipykernel)",
   "language": "python",
   "name": "python3"
  },
  "language_info": {
   "codemirror_mode": {
    "name": "ipython",
    "version": 3
   },
   "file_extension": ".py",
   "mimetype": "text/x-python",
   "name": "python",
   "nbconvert_exporter": "python",
   "pygments_lexer": "ipython3",
   "version": "3.11.3"
  }
 },
 "nbformat": 4,
 "nbformat_minor": 5
}
