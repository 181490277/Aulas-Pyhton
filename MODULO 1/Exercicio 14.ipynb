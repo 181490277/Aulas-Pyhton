{
 "cells": [
  {
   "cell_type": "markdown",
   "id": "fa20b5d5",
   "metadata": {},
   "source": [
    "# EXERCICIO 14"
   ]
  },
  {
   "cell_type": "code",
   "execution_count": 5,
   "id": "b7e892f2",
   "metadata": {},
   "outputs": [
    {
     "name": "stdout",
     "output_type": "stream",
     "text": [
      "Informe a temperatura em graus Celsius? 26.6\n",
      "A temperatuda de 26.6°C é igual a 79.9°F\n"
     ]
    }
   ],
   "source": [
    "'''\n",
    "Escreva um programa que converta uma temperatura digitada em\n",
    "C° e converta para F°.\n",
    "'''\n",
    "\n",
    "#temperatura em graus\n",
    "c = input(\"Informe a temperatura em graus Celsius? \")\n",
    "\n",
    "#convertendo a temperatura em pt flutuante\n",
    "c = float(c)\n",
    "\n",
    "#calculo para Fahrenheit\n",
    "f = (c*(9/5))+32\n",
    "\n",
    "print(f\"A temperatuda de {c:.1f}°C é igual a {f:.1f}°F\")\n",
    "\n"
   ]
  },
  {
   "cell_type": "code",
   "execution_count": null,
   "id": "834cc20e",
   "metadata": {},
   "outputs": [],
   "source": []
  }
 ],
 "metadata": {
  "kernelspec": {
   "display_name": "Python 3 (ipykernel)",
   "language": "python",
   "name": "python3"
  },
  "language_info": {
   "codemirror_mode": {
    "name": "ipython",
    "version": 3
   },
   "file_extension": ".py",
   "mimetype": "text/x-python",
   "name": "python",
   "nbconvert_exporter": "python",
   "pygments_lexer": "ipython3",
   "version": "3.11.3"
  }
 },
 "nbformat": 4,
 "nbformat_minor": 5
}
