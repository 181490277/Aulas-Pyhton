{
 "cells": [
  {
   "cell_type": "markdown",
   "id": "e791aed8",
   "metadata": {},
   "source": [
    "# EXERCICIO 12"
   ]
  },
  {
   "cell_type": "code",
   "execution_count": 5,
   "id": "e6e24836",
   "metadata": {},
   "outputs": [
    {
     "name": "stdout",
     "output_type": "stream",
     "text": [
      "Qual o valor em reais do produto que deseja saber? R$546\n",
      "O valor do produto é de R$546.00, com 5% desconto será R$518.70. \n"
     ]
    }
   ],
   "source": [
    "'''\n",
    "Faça um algoritmo que leia o preço de um produto e mostre\n",
    "seu novo preço, com 5% de desconto.\n",
    "'''\n",
    "\n",
    "#qual o valor do produto\n",
    "n = input(\"Qual o valor em reais do produto que deseja saber? R$\")\n",
    "\n",
    "#trnsformando em ponto flutuante\n",
    "n = float(n)\n",
    "\n",
    "#novo preço com desconto\n",
    "d = n - (n*0.05)\n",
    "\n",
    "print(f\"O valor do produto é de R${n:.2f}, com 5% desconto será R${d:.2f}. \")"
   ]
  },
  {
   "cell_type": "code",
   "execution_count": null,
   "id": "a9d0b07d",
   "metadata": {},
   "outputs": [],
   "source": []
  }
 ],
 "metadata": {
  "kernelspec": {
   "display_name": "Python 3 (ipykernel)",
   "language": "python",
   "name": "python3"
  },
  "language_info": {
   "codemirror_mode": {
    "name": "ipython",
    "version": 3
   },
   "file_extension": ".py",
   "mimetype": "text/x-python",
   "name": "python",
   "nbconvert_exporter": "python",
   "pygments_lexer": "ipython3",
   "version": "3.11.3"
  }
 },
 "nbformat": 4,
 "nbformat_minor": 5
}
