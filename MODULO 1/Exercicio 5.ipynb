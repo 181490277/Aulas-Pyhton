{
 "cells": [
  {
   "cell_type": "markdown",
   "id": "8e142ed9",
   "metadata": {},
   "source": [
    "# Exercicio 5"
   ]
  },
  {
   "cell_type": "code",
   "execution_count": 2,
   "id": "376e3965",
   "metadata": {},
   "outputs": [
    {
     "name": "stdout",
     "output_type": "stream",
     "text": [
      "Digite um valor: 10\n",
      "Analisando o valor 10, seu antecessor é 9 e seu sucessor é 11.\n"
     ]
    }
   ],
   "source": [
    "'''\n",
    "Faça um programa que leia um número inteiro e mostra na tela \n",
    "o seu sucessor e seu antecessor.\n",
    "'''\n",
    "#Digitando o valor que deseja,\n",
    "n = input(\"Digite um valor: \")\n",
    "\n",
    "#convertendo o valor para inteiro\n",
    "n = int(n)\n",
    "\n",
    "#CRIANDO UM ANTECESSOR (antes dele)\n",
    "a = n-1\n",
    "\n",
    "#CRAINDO UM SUCESSOR (depois dele)\n",
    "b = n+1\n",
    "\n",
    "print(f\"Analisando o valor {n}, seu antecessor é {a} e seu sucessor é {b}.\")\n",
    "\n",
    "'''\n",
    "OUTRA FORMA DE FAZER\n",
    "\n",
    "#Digitando o valor que deseja,\n",
    "n = input(\"Digite um valor: \")\n",
    "\n",
    "#convertendo o valor para inteiro\n",
    "n = int(n)\n",
    "\n",
    "print(f\"Analisando o valor {n}, seu antecessor é {n-1} e seu sucessor é {n+1}.\")\n",
    "'''\n"
   ]
  },
  {
   "cell_type": "code",
   "execution_count": null,
   "id": "ce45eed9",
   "metadata": {},
   "outputs": [],
   "source": []
  }
 ],
 "metadata": {
  "kernelspec": {
   "display_name": "Python 3 (ipykernel)",
   "language": "python",
   "name": "python3"
  },
  "language_info": {
   "codemirror_mode": {
    "name": "ipython",
    "version": 3
   },
   "file_extension": ".py",
   "mimetype": "text/x-python",
   "name": "python",
   "nbconvert_exporter": "python",
   "pygments_lexer": "ipython3",
   "version": "3.11.3"
  }
 },
 "nbformat": 4,
 "nbformat_minor": 5
}
