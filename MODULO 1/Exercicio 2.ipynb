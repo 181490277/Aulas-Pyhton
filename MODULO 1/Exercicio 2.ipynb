{
 "cells": [
  {
   "cell_type": "markdown",
   "id": "58164c6f",
   "metadata": {},
   "source": [
    "# EXERCICIO 2:"
   ]
  },
  {
   "cell_type": "code",
   "execution_count": 3,
   "id": "92913ef8",
   "metadata": {},
   "outputs": [
    {
     "name": "stdout",
     "output_type": "stream",
     "text": [
      "Qual é o seu nome? Cris\n",
      "Olá Cris! Foi um prazer em te conhecer!\n"
     ]
    }
   ],
   "source": [
    "'''\n",
    "Faça um programa que leia o nome de uma pessoa e mostre uma \n",
    "mensagem de boas-vindas.\n",
    "'''\n",
    "#Declarando uma variavel\n",
    "nome = input(\"Qual é o seu nome? \")\n",
    "#O que ira mostrar na tela\n",
    "print(f\"Olá {nome}! Foi um prazer em te conhecer!\")"
   ]
  },
  {
   "cell_type": "code",
   "execution_count": null,
   "id": "94602596",
   "metadata": {},
   "outputs": [],
   "source": []
  }
 ],
 "metadata": {
  "kernelspec": {
   "display_name": "Python 3 (ipykernel)",
   "language": "python",
   "name": "python3"
  },
  "language_info": {
   "codemirror_mode": {
    "name": "ipython",
    "version": 3
   },
   "file_extension": ".py",
   "mimetype": "text/x-python",
   "name": "python",
   "nbconvert_exporter": "python",
   "pygments_lexer": "ipython3",
   "version": "3.11.3"
  }
 },
 "nbformat": 4,
 "nbformat_minor": 5
}
