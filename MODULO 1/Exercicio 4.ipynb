{
 "cells": [
  {
   "cell_type": "markdown",
   "id": "844a6fee",
   "metadata": {},
   "source": [
    "# EXERCICIO 4"
   ]
  },
  {
   "cell_type": "code",
   "execution_count": 3,
   "id": "391f6ca4",
   "metadata": {},
   "outputs": [
    {
     "name": "stdout",
     "output_type": "stream",
     "text": [
      "Digite algo: 55\n",
      "O tipo primitivo desse algo é <class 'str'>\n",
      "Só tem espaços? False\n",
      "É um número? True\n"
     ]
    }
   ],
   "source": [
    "'''\n",
    "Faça um programa que leia algo pelo teclado e mostre na tela\n",
    "o seu tipo primitivo e todas as informações possiveis sobre ela.\n",
    "'''\n",
    "#O que deseja ser digitado\n",
    "a = input(\"Digite algo: \")\n",
    "\n",
    "#Mostra o tipo que é esse algo\n",
    "print(\"O tipo primitivo desse algo é\", type(a))\n",
    "#Mostra se esse algo só tem espaços\n",
    "print(\"Só tem espaços?\", a.isspace())\n",
    "#Mostra se esse algo é um numero\n",
    "print(\"É um número?\", a.isnumeric())\n",
    "#Mostra se esse algo é alfabetico\n",
    "print(\"É alfabetico?\", a.alpha())\n",
    "#Mostra se é alfanumerico\n",
    "print(\"É alfanumerico?\", a.isalnum())\n"
   ]
  },
  {
   "cell_type": "code",
   "execution_count": null,
   "id": "9cffcdc4",
   "metadata": {},
   "outputs": [],
   "source": []
  }
 ],
 "metadata": {
  "kernelspec": {
   "display_name": "Python 3 (ipykernel)",
   "language": "python",
   "name": "python3"
  },
  "language_info": {
   "codemirror_mode": {
    "name": "ipython",
    "version": 3
   },
   "file_extension": ".py",
   "mimetype": "text/x-python",
   "name": "python",
   "nbconvert_exporter": "python",
   "pygments_lexer": "ipython3",
   "version": "3.11.3"
  }
 },
 "nbformat": 4,
 "nbformat_minor": 5
}
